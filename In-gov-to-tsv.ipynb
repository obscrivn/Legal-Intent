{
 "cells": [
  {
   "cell_type": "code",
   "execution_count": 1,
   "metadata": {
    "collapsed": true
   },
   "outputs": [],
   "source": [
    "# -*-coding: utf-8 -*-\n",
    "\n",
    "import os\n",
    "import csv\n",
    "import numpy as np\n",
    "import pandas as pd"
   ]
  },
  {
   "cell_type": "code",
   "execution_count": 2,
   "metadata": {
    "collapsed": true
   },
   "outputs": [],
   "source": [
    "cases = []\n",
    "count = 0\n",
    "basedir = \"../IN-gov-txts/\"\n",
    "for txt in os.listdir(basedir):\n",
    "    with open(basedir + txt) as file:\n",
    "        cases.append(file.read())\n",
    "        count += 1\n",
    "\n",
    "cases = np.array(cases, dtype = object)\n",
    "index = np.arange(1, count+1)\n",
    "# the method below output df.shape as (1087, 2), which is better.\n",
    "# df = pd.DataFrame(data = {\"id\": index, \"txt\": cases})\n",
    "df = pd.DataFrame(cases, index, columns = ['txt'])\n",
    "# print df['txt'][0]"
   ]
  },
  {
   "cell_type": "code",
   "execution_count": 4,
   "metadata": {
    "collapsed": false
   },
   "outputs": [
    {
     "name": "stdout",
     "output_type": "stream",
     "text": [
      "(1087, 1)\n",
      "Int64Index([   1,    2,    3,    4,    5,    6,    7,    8,    9,   10,\n",
      "            ...\n",
      "            1078, 1079, 1080, 1081, 1082, 1083, 1084, 1085, 1086, 1087],\n",
      "           dtype='int64', length=1087)\n"
     ]
    }
   ],
   "source": [
    "print df.shape\n",
    "print df.index"
   ]
  },
  {
   "cell_type": "code",
   "execution_count": 5,
   "metadata": {
    "collapsed": false
   },
   "outputs": [
    {
     "name": "stdout",
     "output_type": "stream",
     "text": [
      "1    ATTORNEYS FOR APPELLANT\\nRobert D. MacGill\\nMi...\n",
      "2    ATTORNEYS FOR APPELLANT\\nJohn D. LaDue\\nErin L...\n",
      "3    ATTORNEYS FOR APPELLANTS\\nBryan L. Ciyou\\nLori...\n",
      "Name: txt, dtype: object\n"
     ]
    }
   ],
   "source": [
    "print df['txt'][:3]"
   ]
  },
  {
   "cell_type": "code",
   "execution_count": 6,
   "metadata": {
    "collapsed": false
   },
   "outputs": [
    {
     "name": "stdout",
     "output_type": "stream",
     "text": [
      "1    ATTORNEYS FOR APPELLANT\\nRobert D. MacGill\\nMi...\n",
      "2    ATTORNEYS FOR APPELLANT\\nJohn D. LaDue\\nErin L...\n",
      "3    ATTORNEYS FOR APPELLANTS\\nBryan L. Ciyou\\nLori...\n",
      "Name: txt, dtype: object\n",
      "                                                 txt\n",
      "1  ATTORNEYS FOR APPELLANT\\nRobert D. MacGill\\nMi...\n",
      "2  ATTORNEYS FOR APPELLANT\\nJohn D. LaDue\\nErin L...\n",
      "3  ATTORNEYS FOR APPELLANTS\\nBryan L. Ciyou\\nLori...\n"
     ]
    }
   ],
   "source": [
    "print df.ix[:3]['txt']\n",
    "print df.ix[:3]"
   ]
  },
  {
   "cell_type": "code",
   "execution_count": 7,
   "metadata": {
    "collapsed": false
   },
   "outputs": [
    {
     "name": "stdout",
     "output_type": "stream",
     "text": [
      "                                                 txt\n",
      "1  ATTORNEYS FOR APPELLANT\\nRobert D. MacGill\\nMi...\n",
      "2  ATTORNEYS FOR APPELLANT\\nJohn D. LaDue\\nErin L...\n",
      "3  ATTORNEYS FOR APPELLANTS\\nBryan L. Ciyou\\nLori...\n"
     ]
    }
   ],
   "source": [
    "print df.iloc[:3]"
   ]
  },
  {
   "cell_type": "code",
   "execution_count": 8,
   "metadata": {
    "collapsed": false
   },
   "outputs": [
    {
     "name": "stdout",
     "output_type": "stream",
     "text": [
      "28510\n",
      "24927\n",
      "22769\n"
     ]
    }
   ],
   "source": [
    "print len(df.iloc[0]['txt'])\n",
    "print len(df.iloc[1]['txt'])\n",
    "print len(df.iloc[2]['txt'])\n",
    "# print df.iloc[0]['txt']"
   ]
  },
  {
   "cell_type": "code",
   "execution_count": 11,
   "metadata": {
    "collapsed": false
   },
   "outputs": [],
   "source": [
    "labels = pd.read_csv('../IN.Case.Spreadsheet.csv', header = None, delimiter = ',', \\\n",
    "                     quoting = csv.QUOTE_MINIMAL, index_col = 0)"
   ]
  },
  {
   "cell_type": "code",
   "execution_count": 12,
   "metadata": {
    "collapsed": false
   },
   "outputs": [
    {
     "name": "stdout",
     "output_type": "stream",
     "text": [
      "(250, 6)\n",
      "Int64Index([1, 2, 3, 4, 5, 6], dtype='int64')\n"
     ]
    }
   ],
   "source": [
    "print labels.shape\n",
    "print labels.columns\n"
   ]
  },
  {
   "cell_type": "code",
   "execution_count": 13,
   "metadata": {
    "collapsed": false
   },
   "outputs": [
    {
     "name": "stdout",
     "output_type": "stream",
     "text": [
      "            1            2               3   4                         5    6\n",
      "0                                                                            \n",
      "1       Civil    Contracts       Indemnity  CT       indemnity contracts  NaN\n",
      "2    Criminal  Substantive           Theft  CR                  Burglary  NaN\n",
      "3  Government          NaN  Reorganization  PL  community reorganization  NaN\n"
     ]
    }
   ],
   "source": [
    "print labels.iloc[:3,:6]\n",
    "# 0 is the name of the index column."
   ]
  },
  {
   "cell_type": "code",
   "execution_count": 15,
   "metadata": {
    "collapsed": false
   },
   "outputs": [
    {
     "name": "stdout",
     "output_type": "stream",
     "text": [
      "                                                 txt general_label\n",
      "1  ATTORNEYS FOR APPELLANT\\nRobert D. MacGill\\nMi...         Civil\n",
      "2  ATTORNEYS FOR APPELLANT\\nJohn D. LaDue\\nErin L...      Criminal\n",
      "3  ATTORNEYS FOR APPELLANTS\\nBryan L. Ciyou\\nLori...    Government\n",
      "4  ATTORNEYS FOR APPELLANTS\\nRobert E. Lehman\\nIn...      Criminal\n",
      "5  ATTORNEYS FOR APPELLANTS\\n\\nATTORNEYS FOR APPE...      Criminal\n",
      "                                                   txt   general_label\n",
      "246  ATTORNEYS FOR APPELLANTS\\nCENTER TOWNSHIP TRUS...           Civil\n",
      "247  ATTORNEY FOR APPELLANT\\n\\nATTORNEYS FOR APPELL...           Civil\n",
      "248  ATTORNEYS FOR APPELLANT\\n\\nATTORNEYS FOR APPEL...  Constitutional\n",
      "249  ATTORNEY FOR APPELLANT\\nAmy O. Carson\\nIndiana...        Criminal\n",
      "250  ATTORNEY FOR APPELLANT\\n\\nATTORNEYS FOR APPELL...          Family\n",
      "251  ATTORNEY FOR APPELLANT\\nJim Brugh\\nLogansport,...             NaN\n",
      "252  ATTORNEY FOR APPELLANTS\\nKatherine A. Brown-He...             NaN\n",
      "253  ATTORNEY FOR APPELLANT\\n\\nATTORNEYS FOR APPELL...             NaN\n",
      "254  ATTORNEYS FOR APPELLANT\\n\\nATTORNEYS FOR APPEL...             NaN\n",
      "255  ATTORNEY FOR APPELLANT\\n\\nATTORNEYS FOR APPELL...             NaN\n"
     ]
    }
   ],
   "source": [
    "# df's index is from 1 to 1087, so labels index should be the same.\n",
    "df['general_label'] = labels[1]\n",
    "print df.iloc[:5, :]\n",
    "print df.iloc[245:255, :]\n",
    "df.to_csv(\"IN-gov-txts.tsv\", index = False, sep = '\\t', encoding = 'utf-8',\\\n",
    "              quoting = csv.QUOTE_MINIMAL, columns = ['txt', 'general_label'])"
   ]
  },
  {
   "cell_type": "code",
   "execution_count": null,
   "metadata": {
    "collapsed": true
   },
   "outputs": [],
   "source": []
  }
 ],
 "metadata": {
  "kernelspec": {
   "display_name": "Python 2",
   "language": "python",
   "name": "python2"
  },
  "language_info": {
   "codemirror_mode": {
    "name": "ipython",
    "version": 2
   },
   "file_extension": ".py",
   "mimetype": "text/x-python",
   "name": "python",
   "nbconvert_exporter": "python",
   "pygments_lexer": "ipython2",
   "version": "2.7.10"
  }
 },
 "nbformat": 4,
 "nbformat_minor": 0
}
